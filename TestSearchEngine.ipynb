{
  "nbformat": 4,
  "nbformat_minor": 0,
  "metadata": {
    "colab": {
      "provenance": []
    },
    "kernelspec": {
      "name": "python3",
      "display_name": "Python 3"
    },
    "language_info": {
      "name": "python"
    }
  },
  "cells": [
    {
      "cell_type": "code",
      "execution_count": null,
      "metadata": {
        "id": "PZjqJWQsPkyH"
      },
      "outputs": [],
      "source": [
        "lst1 = [('best marvel movie', 4.203593492507935, 0.556), ('How do kids come to world?', 5.816694498062134, 0.081), ('Information retrieval', 1.911975383758545, 0.757), ('LinkedIn', 0.4362969398498535, 0.478), ('How to make coffee?', 2.291675090789795, 0.457), ('Ritalin', 0.46707916259765625, 0.54), ('How to make wine at home?', 4.859596252441406, 0.548), ('Most expensive city in the world', 8.028701543807983, 0.293), ('India', 1.2640478610992432, 0.333), ('how to make money fast?', 3.4810638427734375, 0.967), ('Netflix', 0.6389894485473633, 0.51), ('Apple computer', 1.6747775077819824, 0.709), ('The Simpsons', 0.6109871864318848, 0.548), ('World cup', 5.125702619552612, 1.0), ('How to lose weight?', 1.3191063404083252, 0.252), ('Java', 0.560476541519165, 0.844), ('Air Jordan', 2.0620009899139404, 0.279), ('how to deal with depression?', 1.4222216606140137, 0.21), ('How do you make gold', 3.0526123046875, 0.288), ('Marijuana', 0.453305721282959, 0.252), ('How to make hummus', 2.169957399368286, 0.656), ('Winter', 1.1586766242980957, 0.503), ('Rick and Morty', 0.8987557888031006, 0.515), ('Natural Language processing', 3.097674608230591, 0.671), ('World Cup 2022', 5.690224647521973, 0.697), ('Dolly the sheep', 0.9599490165710449, 0.407), ('Cigarettes', 0.4653606414794922, 0.335), ('What is the best place to live in?', 6.8103859424591064, 0.0), ('Elon musk', 0.9626796245574951, 0.592), ('How do you breed flowers?', 0.9628753662109375, 0.036)]\n",
        "lst12 =[('best marvel movie', 4.218786001205444, 0.631), ('How do kids come to world?', 6.32642126083374, 0.053), ('Information retrieval', 1.802762746810913, 0.432), ('LinkedIn', 0.42225003242492676, 1.0), ('How to make coffee?', 2.489720344543457, 0.443), ('Ritalin', 0.4925358295440674, 0.806), ('How to make wine at home?', 5.148111820220947, 0.628), ('Most expensive city in the world', 8.9938383102417, 0.293), ('India', 1.4087679386138916, 0.742), ('how to make money fast?', 3.60056209564209, 0.557), ('Netflix', 0.665715217590332, 1.0), ('Apple computer', 1.4181735515594482, 0.726), ('The Simpsons', 0.5191836357116699, 0.371), ('World cup', 6.230295419692993, 1.0), ('How to lose weight?', 1.3061397075653076, 0.322), ('Java', 0.452164888381958, 0.703), ('Air Jordan', 2.263036012649536, 0.196), ('how to deal with depression?', 1.4147474765777588, 0.306), ('How do you make gold', 3.3201541900634766, 0.288), ('Marijuana', 0.5753045082092285, 0.69), ('How to make hummus', 2.161459445953369, 0.649), ('Winter', 1.0751323699951172, 0.409), ('Rick and Morty', 1.008596420288086, 1.0), ('Natural Language processing', 2.9193453788757324, 0.717), ('World Cup 2022', 6.771752834320068, 0.62), ('Dolly the sheep', 0.8610918521881104, 0.28), ('Cigarettes', 0.31727170944213867, 0.724), ('What is the best place to live in?', 7.489948749542236, 0.0), ('Elon musk', 0.8721354007720947, 0.58), ('How do you breed flowers?', 1.072209119796753, 0.04)]\n",
        "# 0.5401999999999999\n",
        "# 2.5872538089752197\n",
        "time = [x[1] for x in lst10]\n",
        "prec = [x[2] for x in lst10]"
      ]
    },
    {
      "cell_type": "code",
      "source": [
        "import matplotlib.pyplot as plt\n",
        "import math\n",
        "time = [t/30 for t in range(0,30)]\n",
        "precision = [t[2] for t in lst12]"
      ],
      "metadata": {
        "id": "JgxiozGPvYph"
      },
      "execution_count": null,
      "outputs": []
    },
    {
      "cell_type": "code",
      "source": [
        "averagePrecision = []\n",
        "for i in range(len(precision)):\n",
        "  if i == 0:\n",
        "    averagePrecision.append(precision[i])\n",
        "    continue\n",
        "  avg = 0\n",
        "  for j in range(i):\n",
        "    avg += precision[j]\n",
        "  avg = avg/i\n",
        "  averagePrecision.append(avg)\n",
        "\n",
        "plt.plot(time, averagePrecision, color='blue')\n",
        "# plt.plot(time, precision, color='red')\n",
        "plt.xlabel('Time')\n",
        "plt.ylabel('Average Precision')\n",
        "plt.ylim(0,1)\n",
        "plt.show()\n"
      ],
      "metadata": {
        "id": "P7xgwUjwQVnZ"
      },
      "execution_count": null,
      "outputs": []
    },
    {
      "cell_type": "code",
      "source": [
        "import pandas as pd\n",
        "\n",
        "data = {'Time': time, 'Average Precision': averagePrecision}\n",
        "df = pd.DataFrame(data)\n",
        "x = df.to_excel('graph.xlsx', index=False)\n",
        "from google.colab import files\n",
        "\n",
        "files.download('graph.xlsx')"
      ],
      "metadata": {
        "colab": {
          "base_uri": "https://localhost:8080/",
          "height": 17
        },
        "id": "0oMCgvXdrxWt",
        "outputId": "d6cf83c0-0b0c-4a42-a8c4-c3fc416769a0"
      },
      "execution_count": null,
      "outputs": [
        {
          "output_type": "display_data",
          "data": {
            "text/plain": [
              "<IPython.core.display.Javascript object>"
            ],
            "application/javascript": [
              "\n",
              "    async function download(id, filename, size) {\n",
              "      if (!google.colab.kernel.accessAllowed) {\n",
              "        return;\n",
              "      }\n",
              "      const div = document.createElement('div');\n",
              "      const label = document.createElement('label');\n",
              "      label.textContent = `Downloading \"${filename}\": `;\n",
              "      div.appendChild(label);\n",
              "      const progress = document.createElement('progress');\n",
              "      progress.max = size;\n",
              "      div.appendChild(progress);\n",
              "      document.body.appendChild(div);\n",
              "\n",
              "      const buffers = [];\n",
              "      let downloaded = 0;\n",
              "\n",
              "      const channel = await google.colab.kernel.comms.open(id);\n",
              "      // Send a message to notify the kernel that we're ready.\n",
              "      channel.send({})\n",
              "\n",
              "      for await (const message of channel.messages) {\n",
              "        // Send a message to notify the kernel that we're ready.\n",
              "        channel.send({})\n",
              "        if (message.buffers) {\n",
              "          for (const buffer of message.buffers) {\n",
              "            buffers.push(buffer);\n",
              "            downloaded += buffer.byteLength;\n",
              "            progress.value = downloaded;\n",
              "          }\n",
              "        }\n",
              "      }\n",
              "      const blob = new Blob(buffers, {type: 'application/binary'});\n",
              "      const a = document.createElement('a');\n",
              "      a.href = window.URL.createObjectURL(blob);\n",
              "      a.download = filename;\n",
              "      div.appendChild(a);\n",
              "      a.click();\n",
              "      div.remove();\n",
              "    }\n",
              "  "
            ]
          },
          "metadata": {}
        },
        {
          "output_type": "display_data",
          "data": {
            "text/plain": [
              "<IPython.core.display.Javascript object>"
            ],
            "application/javascript": [
              "download(\"download_bd3bd239-d3e3-4577-bae9-933118ff65df\", \"graph.xlsx\", 5453)"
            ]
          },
          "metadata": {}
        }
      ]
    }
  ]
}